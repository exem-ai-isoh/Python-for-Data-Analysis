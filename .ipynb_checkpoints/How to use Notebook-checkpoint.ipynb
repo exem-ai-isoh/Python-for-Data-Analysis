{
 "cells": [
  {
   "cell_type": "markdown",
   "id": "40c0c38d",
   "metadata": {},
   "source": [
    "# Edit mode(녹색창)\n",
    "- 실행 취소 : ctrl + c\n",
    "- 실행 : ctrl(shift) + enter\n",
    "\n",
    "# Command mode(파란창)\n",
    "- A : 위에 Cell 생성\n",
    "- B : 아래에 Cell 생성\n",
    "- X : 셀을 잘라낼 때\n",
    "- C : 셀을 복사할 때\n",
    "- V : 선택한 셀 아래에 붙여넣기\n",
    "- X : 해당 셀 잘라내기\n",
    "- Z : undo cell deletion\n",
    "- shift + M : 선택한 셀과 아래의 셀을 합치기\n",
    "- enter : Editor mode로 변경\n",
    "- o : 실행결과 열고 닫기\n",
    "- M : 마크다운으로 변경\n",
    "- Y : code로 변경\n",
    "- 나머지 단축키는 위 메뉴의 command palette 통하여 확인가능"
   ]
  },
  {
   "cell_type": "code",
   "execution_count": 11,
   "id": "5e4370e2",
   "metadata": {},
   "outputs": [],
   "source": [
    "# data 자기관찰\n",
    "b = [1,2,3]\n",
    "b?"
   ]
  },
  {
   "cell_type": "code",
   "execution_count": 15,
   "id": "4e606ccb",
   "metadata": {},
   "outputs": [],
   "source": [
    "# 함수 자기관찰\n",
    "print?"
   ]
  },
  {
   "cell_type": "code",
   "execution_count": 16,
   "id": "7b1a2afd",
   "metadata": {},
   "outputs": [],
   "source": [
    "# 함수 코드 확인\n",
    "print??"
   ]
  },
  {
   "cell_type": "code",
   "execution_count": 27,
   "id": "83056650",
   "metadata": {},
   "outputs": [
    {
     "data": {
      "text/plain": [
       "1.0"
      ]
     },
     "execution_count": 27,
     "metadata": {},
     "output_type": "execute_result"
    },
    {
     "data": {
      "text/plain": [
       "<Figure size 432x288 with 0 Axes>"
      ]
     },
     "metadata": {},
     "output_type": "display_data"
    }
   ],
   "source": [
    "# Ipython 세션 내에서 py 파일실행\n",
    "%run examples/ipython_script_test.py\n",
    "f(1,2,3)"
   ]
  },
  {
   "cell_type": "code",
   "execution_count": 24,
   "id": "7bcfa552",
   "metadata": {},
   "outputs": [
    {
     "data": {
      "text/plain": [
       "'C:\\\\Users\\\\isoh1\\\\Python for Data Analysis'"
      ]
     },
     "execution_count": 24,
     "metadata": {},
     "output_type": "execute_result"
    }
   ],
   "source": [
    "# 현재 위치\n",
    "%pwd"
   ]
  },
  {
   "cell_type": "code",
   "execution_count": 25,
   "id": "32e79a9e",
   "metadata": {},
   "outputs": [
    {
     "data": {
      "text/plain": [
       "[<matplotlib.lines.Line2D at 0x16df949cd30>]"
      ]
     },
     "execution_count": 25,
     "metadata": {},
     "output_type": "execute_result"
    },
    {
     "data": {
      "image/png": "[encoded data removed]",
      "text/plain": [
       "<Figure size 432x288 with 1 Axes>"
      ]
     },
     "metadata": {
      "needs_background": "light"
     },
     "output_type": "display_data"
    }
   ],
   "source": [
    "# IPython 셸이나 주피터 노트북과 matplotlib을 통합\n",
    "%matplotlib inline\n",
    "import matplotlib.pyplot as plt\n",
    "plt.plot(np.random.randn(50).cumsum())"
   ]
  },
  {
   "cell_type": "code",
   "execution_count": null,
   "id": "a4a868d4",
   "metadata": {},
   "outputs": [],
   "source": []
  }
 ],
 "metadata": {
  "kernelspec": {
   "display_name": "Python 3 (ipykernel)",
   "language": "python",
   "name": "python3"
  },
  "language_info": {
   "codemirror_mode": {
    "name": "ipython",
    "version": 3
   },
   "file_extension": ".py",
   "mimetype": "text/x-python",
   "name": "python",
   "nbconvert_exporter": "python",
   "pygments_lexer": "ipython3",
   "version": "3.9.7"
  }
 },
 "nbformat": 4,
 "nbformat_minor": 5
}
