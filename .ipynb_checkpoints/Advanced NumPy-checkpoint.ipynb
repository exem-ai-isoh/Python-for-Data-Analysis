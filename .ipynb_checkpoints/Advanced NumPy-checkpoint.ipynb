{
 "cells": [
  {
   "cell_type": "markdown",
   "id": "1d6e814b",
   "metadata": {},
   "source": [
    "# Advanced NumPy"
   ]
  },
  {
   "cell_type": "code",
   "execution_count": 1,
   "id": "7f9b3f8d",
   "metadata": {},
   "outputs": [],
   "source": [
    "import numpy as np\n",
    "import pandas as pd\n",
    "np.random.seed(12345)\n",
    "import matplotlib.pyplot as plt\n",
    "plt.rc('figure', figsize=(10, 6))\n",
    "PREVIOUS_MAX_ROWS = pd.options.display.max_rows\n",
    "pd.options.display.max_rows = 20\n",
    "np.set_printoptions(precision=4, suppress=True)"
   ]
  },
  {
   "cell_type": "markdown",
   "id": "f0ab009e",
   "metadata": {},
   "source": [
    "# ndarray Object Internals"
   ]
  },
  {
   "cell_type": "markdown",
   "id": "3c7b8694",
   "metadata": {},
   "source": [
    "ndarray는 연속적이든 아니든 단일 형태의 데이터 블록을 다차원 배열 객체 형태로 해석할 수 있는 수단을 제공한다. dtype이라고 하는 자료형은 데이터가 실수, 정수, 불리언 혹은 다른 형인지 알려주는 역할을 한다. \n",
    "- 데이터 포인터 : RAM이나 메모리 맵 파일에서 데이터 블록\n",
    "- dtype은 배열 내에서 값을 담는 고정된 크기를 나타낸다. \n",
    "- 배열의 모양을 알려주는 튜플(shape)\n",
    "- 하나의 차원을 따라 다음 원소로 몇 바이트 이동해야 하는지를 나타내는 stride를 담고 있는 튜플"
   ]
  },
  {
   "cell_type": "code",
   "execution_count": 4,
   "id": "2b5ae351",
   "metadata": {},
   "outputs": [
    {
     "data": {
      "text/plain": [
       "(10, 5)"
      ]
     },
     "execution_count": 4,
     "metadata": {},
     "output_type": "execute_result"
    }
   ],
   "source": [
    "np.ones((10, 5)).shape"
   ]
  },
  {
   "cell_type": "code",
   "execution_count": 6,
   "id": "8e1202c0",
   "metadata": {},
   "outputs": [
    {
     "data": {
      "text/plain": [
       "(160, 40, 8)"
      ]
     },
     "execution_count": 6,
     "metadata": {},
     "output_type": "execute_result"
    }
   ],
   "source": [
    "# 일반적으로 stride 값이 클 수록 해당 축을 따라 연산을 수행하는 비용이 많이든다.\n",
    "# stride는 복사가 이루어지지 않는 배열의 뷰를 생성하는 데 중요한 역할을 한다.\n",
    "# https://numpy.org/doc/stable/reference/generated/numpy.ndarray.strides.html\n",
    "np.ones((3, 4, 5), dtype=np.float64).strides"
   ]
  },
  {
   "cell_type": "markdown",
   "id": "4d955e45",
   "metadata": {},
   "source": [
    "# Advanced Array Manipulation"
   ]
  },
  {
   "cell_type": "code",
   "execution_count": 7,
   "id": "eb9573cf",
   "metadata": {},
   "outputs": [
    {
     "data": {
      "text/plain": [
       "array([[ 0,  1,  2],\n",
       "       [ 3,  4,  5],\n",
       "       [ 6,  7,  8],\n",
       "       [ 9, 10, 11],\n",
       "       [12, 13, 14]])"
      ]
     },
     "execution_count": 7,
     "metadata": {},
     "output_type": "execute_result"
    }
   ],
   "source": [
    "arr = np.arange(15)\n",
    "arr.reshape((5, -1))"
   ]
  },
  {
   "cell_type": "code",
   "execution_count": 9,
   "id": "2dd18816",
   "metadata": {},
   "outputs": [
    {
     "data": {
      "text/plain": [
       "array([ 0,  1,  2,  3,  4,  5,  6,  7,  8,  9, 10, 11, 12, 13, 14])"
      ]
     },
     "execution_count": 9,
     "metadata": {},
     "output_type": "execute_result"
    }
   ],
   "source": [
    "arr = np.arange(15).reshape((5, 3))\n",
    "arr\n",
    "\n",
    "# ravel : Return the flattened underlying data as an ndarray.\n",
    "arr.ravel()"
   ]
  },
  {
   "cell_type": "code",
   "execution_count": 10,
   "id": "af65926c",
   "metadata": {},
   "outputs": [
    {
     "data": {
      "text/plain": [
       "array([ 0,  1,  2,  3,  4,  5,  6,  7,  8,  9, 10, 11, 12, 13, 14])"
      ]
     },
     "execution_count": 10,
     "metadata": {},
     "output_type": "execute_result"
    }
   ],
   "source": [
    "arr.flatten()"
   ]
  },
  {
   "cell_type": "markdown",
   "id": "3fe1bab8",
   "metadata": {},
   "source": [
    "### Fancy Indexing Equivalents: take and put, 단일 축에 대한 값을 선택할 때만 사용할 수 있는 유용한 메서드"
   ]
  },
  {
   "cell_type": "code",
   "execution_count": 21,
   "id": "a73d3838",
   "metadata": {},
   "outputs": [
    {
     "data": {
      "text/plain": [
       "array([700, 100, 200, 600])"
      ]
     },
     "execution_count": 21,
     "metadata": {},
     "output_type": "execute_result"
    }
   ],
   "source": [
    "arr = np.arange(10) * 100\n",
    "inds = [7, 1, 2, 6]\n",
    "arr[inds]"
   ]
  },
  {
   "cell_type": "code",
   "execution_count": 22,
   "id": "ad8f3773",
   "metadata": {},
   "outputs": [
    {
     "data": {
      "text/plain": [
       "array([700, 100, 200, 600])"
      ]
     },
     "execution_count": 22,
     "metadata": {},
     "output_type": "execute_result"
    }
   ],
   "source": [
    "# take \n",
    "arr.take(inds)"
   ]
  },
  {
   "cell_type": "code",
   "execution_count": 24,
   "id": "110c0708",
   "metadata": {},
   "outputs": [
    {
     "data": {
      "text/plain": [
       "array([  0,  42,  42, 300, 400, 500,  42,  42, 800, 900])"
      ]
     },
     "execution_count": 24,
     "metadata": {},
     "output_type": "execute_result"
    }
   ],
   "source": [
    "# 해당 위치에 42 대입\n",
    "arr.put(inds, 42)\n",
    "arr"
   ]
  },
  {
   "cell_type": "code",
   "execution_count": 25,
   "id": "f8e5fb37",
   "metadata": {},
   "outputs": [
    {
     "data": {
      "text/plain": [
       "array([  0,  41,  42, 300, 400, 500,  43,  40, 800, 900])"
      ]
     },
     "execution_count": 25,
     "metadata": {},
     "output_type": "execute_result"
    }
   ],
   "source": [
    "arr.put(inds, [40, 41, 42, 43])\n",
    "arr"
   ]
  },
  {
   "cell_type": "code",
   "execution_count": 26,
   "id": "d9eb0f98",
   "metadata": {},
   "outputs": [
    {
     "data": {
      "text/plain": [
       "array([[1.0072, 0.769 , 1.0072, 1.2464],\n",
       "       [1.3529, 0.275 , 1.3529, 0.2289]])"
      ]
     },
     "execution_count": 26,
     "metadata": {},
     "output_type": "execute_result"
    }
   ],
   "source": [
    "inds = [2, 0, 2, 1]\n",
    "arr = np.random.randn(2, 4)\n",
    "arr\n",
    "arr.take(inds, axis=1)"
   ]
  },
  {
   "cell_type": "markdown",
   "id": "3e09c2fc",
   "metadata": {},
   "source": [
    "# Broadcasting"
   ]
  },
  {
   "cell_type": "markdown",
   "id": "9f5a9262",
   "metadata": {},
   "source": [
    "브로드캐스팅은 다른 모양의 배열 간의 산술 연산을 어떻게 수행해야 하는지 설명한다. 만일 이어지는 각 차원에 대해 축의 길이가 일치하거나 둘 중 하나의 길이가 1이라면 두 배열은 브로드캐스팅 호환이다. 브로드캐스팅은 누락된 혹은 길이가 1인 차원에 대해 수행된다. "
   ]
  },
  {
   "cell_type": "code",
   "execution_count": 33,
   "id": "e73571dc",
   "metadata": {},
   "outputs": [
    {
     "data": {
      "text/plain": [
       "array([-0.5235,  0.117 , -0.2553])"
      ]
     },
     "execution_count": 33,
     "metadata": {},
     "output_type": "execute_result"
    }
   ],
   "source": [
    "arr = np.random.randn(4, 3)\n",
    "# axis=0을 기준으로 평균\n",
    "arr.mean(0)"
   ]
  },
  {
   "cell_type": "code",
   "execution_count": 34,
   "id": "b91c2e9f",
   "metadata": {
    "scrolled": true
   },
   "outputs": [
    {
     "data": {
      "text/plain": [
       "array([[ 1.3764, -1.0728,  0.2318],\n",
       "       [-1.7808, -0.7694, -0.963 ],\n",
       "       [-0.8091,  0.9577,  0.979 ],\n",
       "       [ 1.2135,  0.8846, -0.2478]])"
      ]
     },
     "execution_count": 34,
     "metadata": {},
     "output_type": "execute_result"
    }
   ],
   "source": [
    "demeaned = arr - arr.mean(0)\n",
    "demeaned"
   ]
  },
  {
   "cell_type": "code",
   "execution_count": 35,
   "id": "8d0a8b25",
   "metadata": {},
   "outputs": [
    {
     "data": {
      "text/plain": [
       "array([-0., -0.,  0.])"
      ]
     },
     "execution_count": 35,
     "metadata": {},
     "output_type": "execute_result"
    }
   ],
   "source": [
    "demeaned.mean(0)"
   ]
  },
  {
   "cell_type": "code",
   "execution_count": 38,
   "id": "d70f2a96",
   "metadata": {
    "scrolled": true
   },
   "outputs": [
    {
     "data": {
      "text/plain": [
       "array([[ 0.853 , -0.9559, -0.0235],\n",
       "       [-2.3042, -0.6525, -1.2183],\n",
       "       [-1.3326,  1.0746,  0.7236],\n",
       "       [ 0.69  ,  1.0015, -0.5031]])"
      ]
     },
     "execution_count": 38,
     "metadata": {},
     "output_type": "execute_result"
    }
   ],
   "source": [
    "arr"
   ]
  },
  {
   "cell_type": "code",
   "execution_count": 39,
   "id": "f56f9698",
   "metadata": {},
   "outputs": [
    {
     "data": {
      "text/plain": [
       "(4,)"
      ]
     },
     "execution_count": 39,
     "metadata": {},
     "output_type": "execute_result"
    }
   ],
   "source": [
    "row_means = arr.mean(1)\n",
    "row_means.shape"
   ]
  },
  {
   "cell_type": "code",
   "execution_count": 41,
   "id": "de43b6ac",
   "metadata": {},
   "outputs": [
    {
     "data": {
      "text/plain": [
       "array([[ 0.8951, -0.9137,  0.0186],\n",
       "       [-0.9126,  0.7392,  0.1734],\n",
       "       [-1.4878,  0.9194,  0.5684],\n",
       "       [ 0.2938,  0.6054, -0.8992]])"
      ]
     },
     "execution_count": 41,
     "metadata": {},
     "output_type": "execute_result"
    }
   ],
   "source": [
    "row_means.reshape((4, 1))\n",
    "demeaned = arr - row_means.reshape((4, 1))\n",
    "demeaned"
   ]
  },
  {
   "cell_type": "markdown",
   "id": "36a82696",
   "metadata": {},
   "source": [
    "### Broadcasting Over Other Axes"
   ]
  },
  {
   "cell_type": "code",
   "execution_count": 45,
   "id": "cabe1227",
   "metadata": {},
   "outputs": [
    {
     "data": {
      "text/plain": [
       "array([[ 0.8951, -0.9137,  0.0186],\n",
       "       [-0.9126,  0.7392,  0.1734],\n",
       "       [-1.4878,  0.9194,  0.5684],\n",
       "       [ 0.2938,  0.6054, -0.8992]])"
      ]
     },
     "execution_count": 45,
     "metadata": {},
     "output_type": "execute_result"
    }
   ],
   "source": [
    "arr-arr.mean(1).reshape(4,1)"
   ]
  },
  {
   "cell_type": "code",
   "execution_count": 50,
   "id": "bdbb33ad",
   "metadata": {},
   "outputs": [
    {
     "data": {
      "text/plain": [
       "(4, 1, 4)"
      ]
     },
     "execution_count": 50,
     "metadata": {},
     "output_type": "execute_result"
    }
   ],
   "source": [
    "# np.newaxis  : 브로드캐스팅을 위한 간단한 방법은 길이가 1인 축을 만드는 것, newaxis가 해당 기능을 제공한다. \n",
    "\n",
    "arr = np.zeros((4, 4))\n",
    "arr_3d = arr[:, np.newaxis, :]\n",
    "arr_3d.shape"
   ]
  },
  {
   "cell_type": "code",
   "execution_count": 49,
   "id": "01c4d953",
   "metadata": {},
   "outputs": [
    {
     "data": {
      "text/plain": [
       "(4, 1)"
      ]
     },
     "execution_count": 49,
     "metadata": {},
     "output_type": "execute_result"
    }
   ],
   "source": [
    "arr_1d = np.random.normal(size=3)\n",
    "arr_1d[:, np.newaxis]\n",
    "arr_1d[np.newaxis, :]"
   ]
  },
  {
   "cell_type": "code",
   "execution_count": 52,
   "id": "1212b563",
   "metadata": {},
   "outputs": [
    {
     "data": {
      "text/plain": [
       "array([ 0.2229,  0.0513, -1.1577])"
      ]
     },
     "execution_count": 52,
     "metadata": {},
     "output_type": "execute_result"
    }
   ],
   "source": [
    "arr_1d = np.random.normal(size=3)\n",
    "arr_1d "
   ]
  },
  {
   "cell_type": "code",
   "execution_count": 53,
   "id": "1e05e882",
   "metadata": {},
   "outputs": [
    {
     "data": {
      "text/plain": [
       "array([[ 0.2229],\n",
       "       [ 0.0513],\n",
       "       [-1.1577]])"
      ]
     },
     "execution_count": 53,
     "metadata": {},
     "output_type": "execute_result"
    }
   ],
   "source": [
    "arr_1d[:, np.newaxis]"
   ]
  },
  {
   "cell_type": "code",
   "execution_count": 54,
   "id": "3d61aa05",
   "metadata": {},
   "outputs": [
    {
     "data": {
      "text/plain": [
       "array([[ 0.2229,  0.0513, -1.1577]])"
      ]
     },
     "execution_count": 54,
     "metadata": {},
     "output_type": "execute_result"
    }
   ],
   "source": [
    "arr_1d[np.newaxis, :]"
   ]
  },
  {
   "cell_type": "code",
   "execution_count": 55,
   "id": "f7ecebfc",
   "metadata": {},
   "outputs": [
    {
     "data": {
      "text/plain": [
       "array([[ 0.6177,  0.7978,  0.5663, -0.4278],\n",
       "       [-0.077 ,  0.3803, -0.3688, -0.9186],\n",
       "       [ 0.1499, -0.8131,  0.9887,  0.0507]])"
      ]
     },
     "execution_count": 55,
     "metadata": {},
     "output_type": "execute_result"
    }
   ],
   "source": [
    "arr = np.random.randn(3, 4, 5)\n",
    "depth_means = arr.mean(2)\n",
    "depth_means"
   ]
  },
  {
   "cell_type": "code",
   "execution_count": 56,
   "id": "f01f3019",
   "metadata": {},
   "outputs": [
    {
     "data": {
      "text/plain": [
       "(3, 4)"
      ]
     },
     "execution_count": 56,
     "metadata": {},
     "output_type": "execute_result"
    }
   ],
   "source": [
    "depth_means.shape"
   ]
  },
  {
   "cell_type": "code",
   "execution_count": 57,
   "id": "f3d85132",
   "metadata": {},
   "outputs": [
    {
     "data": {
      "text/plain": [
       "array([[[ 0.199 , -0.1841,  0.3931,  1.2072, -1.6152],\n",
       "        [ 0.0528, -0.9294,  0.1146, -0.6096,  1.3716],\n",
       "        [-0.6813,  1.4373, -0.5367,  0.2289, -0.4482],\n",
       "        [-0.3207,  1.0128,  0.5805, -1.1378, -0.1347]],\n",
       "\n",
       "       [[ 0.0444, -0.852 , -0.4055,  0.0408,  1.1724],\n",
       "        [ 0.6006, -0.9698,  1.2014, -0.909 ,  0.0767],\n",
       "        [ 1.2988, -1.2004, -0.6537, -0.034 ,  0.5893],\n",
       "        [ 0.7252,  1.5877, -0.7304, -1.3342, -0.2483]],\n",
       "\n",
       "       [[ 0.2037,  0.5522, -0.4245, -0.2891, -0.0423],\n",
       "        [ 0.2066,  0.3961,  0.7961, -0.411 , -0.9877],\n",
       "        [ 0.646 ,  0.0003, -0.5308, -0.4336,  0.318 ],\n",
       "        [-0.4912, -0.352 ,  0.4481, -0.8747,  1.2699]]])"
      ]
     },
     "execution_count": 57,
     "metadata": {},
     "output_type": "execute_result"
    }
   ],
   "source": [
    "demeaned = arr - depth_means[:, :, np.newaxis]\n",
    "demeaned"
   ]
  },
  {
   "cell_type": "markdown",
   "id": "68397157",
   "metadata": {},
   "source": [
    "### Setting Array Values by Broadcasting"
   ]
  },
  {
   "cell_type": "code",
   "execution_count": 77,
   "id": "85005cdf",
   "metadata": {},
   "outputs": [
    {
     "data": {
      "text/plain": [
       "array([[5., 5., 5.],\n",
       "       [5., 5., 5.],\n",
       "       [5., 5., 5.],\n",
       "       [5., 5., 5.]])"
      ]
     },
     "execution_count": 77,
     "metadata": {},
     "output_type": "execute_result"
    }
   ],
   "source": [
    "arr = np.zeros((4, 3))\n",
    "arr[:] = 5\n",
    "arr"
   ]
  },
  {
   "cell_type": "code",
   "execution_count": 79,
   "id": "0e9d8d1c",
   "metadata": {},
   "outputs": [
    {
     "data": {
      "text/plain": [
       "array([[ 1.28,  1.28,  1.28],\n",
       "       [-0.42, -0.42, -0.42],\n",
       "       [ 0.44,  0.44,  0.44],\n",
       "       [ 1.6 ,  1.6 ,  1.6 ]])"
      ]
     },
     "execution_count": 79,
     "metadata": {},
     "output_type": "execute_result"
    }
   ],
   "source": [
    "col = np.array([1.28, -0.42, 0.44, 1.6])\n",
    "arr[:] = col[:, np.newaxis]\n",
    "arr"
   ]
  },
  {
   "cell_type": "code",
   "execution_count": 80,
   "id": "2072b2dc",
   "metadata": {},
   "outputs": [
    {
     "data": {
      "text/plain": [
       "array([[-1.37 , -1.37 , -1.37 ],\n",
       "       [ 0.509,  0.509,  0.509],\n",
       "       [ 0.44 ,  0.44 ,  0.44 ],\n",
       "       [ 1.6  ,  1.6  ,  1.6  ]])"
      ]
     },
     "execution_count": 80,
     "metadata": {},
     "output_type": "execute_result"
    }
   ],
   "source": [
    "arr[:2] = [[-1.37], [0.509]]\n",
    "arr"
   ]
  },
  {
   "cell_type": "markdown",
   "id": "97ed920a",
   "metadata": {},
   "source": [
    "이외에 Advanced ufunc Usage, Structured and Record Arrays, More About Sorting, Writing Fast NumPy Functions with Numba, Advanced Array Input and Output 등은 업무에서 요구될 때 실습을 진행하겠다."
   ]
  },
  {
   "cell_type": "code",
   "execution_count": null,
   "id": "869982f0",
   "metadata": {},
   "outputs": [],
   "source": []
  }
 ],
 "metadata": {
  "kernelspec": {
   "display_name": "Python 3 (ipykernel)",
   "language": "python",
   "name": "python3"
  },
  "language_info": {
   "codemirror_mode": {
    "name": "ipython",
    "version": 3
   },
   "file_extension": ".py",
   "mimetype": "text/x-python",
   "name": "python",
   "nbconvert_exporter": "python",
   "pygments_lexer": "ipython3",
   "version": "3.9.7"
  }
 },
 "nbformat": 4,
 "nbformat_minor": 5
}
